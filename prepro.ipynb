{
 "cells": [
  {
   "cell_type": "code",
   "execution_count": 1,
   "metadata": {
    "collapsed": true
   },
   "outputs": [],
   "source": [
    "import cv2\n",
    "import os\n",
    "import matplotlib.pyplot as plt\n",
    "import matplotlib.image as mpimg\n",
    "import numpy as np\n",
    "from PIL import Image\n",
    "from sklearn.decomposition import PCA\n",
    "from sklearn.discriminant_analysis import LinearDiscriminantAnalysis\n",
    "from sklearn.neural_network import MLPClassifier\n",
    "from sklearn.externals import joblib\n"
   ]
  },
  {
   "cell_type": "code",
   "execution_count": 41,
   "metadata": {
    "collapsed": false
   },
   "outputs": [
    {
     "name": "stdout",
     "output_type": "stream",
     "text": [
      "0\n",
      "1\n",
      "2\n",
      "3\n",
      "4\n",
      "5\n",
      "6\n",
      "7\n",
      "8\n",
      "9\n",
      "10\n",
      "11\n",
      "12\n",
      "13\n",
      "14\n",
      "15\n",
      "16\n",
      "0\n",
      "1\n",
      "2\n",
      "3\n",
      "4\n",
      "5\n",
      "6\n",
      "7\n",
      "8\n",
      "9\n",
      "10\n",
      "11\n",
      "12\n",
      "13\n",
      "14\n",
      "15\n",
      "0\n",
      "1\n",
      "2\n",
      "3\n",
      "4\n",
      "5\n",
      "6\n",
      "7\n",
      "8\n",
      "9\n",
      "10\n",
      "0\n",
      "1\n",
      "2\n",
      "3\n",
      "4\n",
      "5\n",
      "6\n",
      "7\n",
      "8\n",
      "9\n",
      "10\n",
      "11\n",
      "12\n",
      "13\n"
     ]
    },
    {
     "data": {
      "text/plain": [
       "['Dataset4/1/1.png',\n",
       " 'Dataset4/1/2.png',\n",
       " 'Dataset4/1/3.png',\n",
       " 'Dataset4/1/4.png',\n",
       " 'Dataset4/1/5.png',\n",
       " 'Dataset4/1/6.png',\n",
       " 'Dataset4/1/7.png',\n",
       " 'Dataset4/1/8.png',\n",
       " 'Dataset4/1/9.png',\n",
       " 'Dataset4/1/10.png',\n",
       " 'Dataset4/1/11.png',\n",
       " 'Dataset4/1/12.png',\n",
       " 'Dataset4/1/13.png',\n",
       " 'Dataset4/1/14.png',\n",
       " 'Dataset4/1/15.png',\n",
       " 'Dataset4/1/16.png',\n",
       " 'Dataset4/1/17.png',\n",
       " 'Dataset4/2/1.png',\n",
       " 'Dataset4/2/2.png',\n",
       " 'Dataset4/2/3.png',\n",
       " 'Dataset4/2/4.png',\n",
       " 'Dataset4/2/5.png',\n",
       " 'Dataset4/2/6.png',\n",
       " 'Dataset4/2/7.png',\n",
       " 'Dataset4/2/8.png',\n",
       " 'Dataset4/2/9.png',\n",
       " 'Dataset4/2/10.png',\n",
       " 'Dataset4/2/11.png',\n",
       " 'Dataset4/2/12.png',\n",
       " 'Dataset4/2/13.png',\n",
       " 'Dataset4/2/14.png',\n",
       " 'Dataset4/2/15.png',\n",
       " 'Dataset4/2/16.png',\n",
       " 'Dataset4/3/1.png',\n",
       " 'Dataset4/3/2.png',\n",
       " 'Dataset4/3/3.png',\n",
       " 'Dataset4/3/4.png',\n",
       " 'Dataset4/3/5.png',\n",
       " 'Dataset4/3/6.png',\n",
       " 'Dataset4/3/7.png',\n",
       " 'Dataset4/3/8.png',\n",
       " 'Dataset4/3/9.png',\n",
       " 'Dataset4/3/10.png',\n",
       " 'Dataset4/3/11.png',\n",
       " 'Dataset4/4/1.png',\n",
       " 'Dataset4/4/2.png',\n",
       " 'Dataset4/4/3.png',\n",
       " 'Dataset4/4/4.png',\n",
       " 'Dataset4/4/5.png',\n",
       " 'Dataset4/4/6.png',\n",
       " 'Dataset4/4/7.png',\n",
       " 'Dataset4/4/8.png',\n",
       " 'Dataset4/4/9.png',\n",
       " 'Dataset4/4/10.png',\n",
       " 'Dataset4/4/11.png',\n",
       " 'Dataset4/4/12.png',\n",
       " 'Dataset4/4/13.png',\n",
       " 'Dataset4/4/14.png']"
      ]
     },
     "execution_count": 41,
     "metadata": {},
     "output_type": "execute_result"
    }
   ],
   "source": [
    "path = 'Dataset_raw'\n",
    "imagePaths = [os.path.join(path, f) for f in os.listdir(path)]\n",
    "# print imagePaths\n",
    "images = []\n",
    "final_images = []\n",
    "\n",
    "for imagePath in imagePaths:\n",
    "    if imagePath != 'Dataset_raw/.DS_Store':\n",
    "        images.append([os.path.join(imagePath, f) for f in os.listdir(imagePath)])\n",
    "#     print imagePath\n",
    "\n",
    "for i in range(len(images)):\n",
    "    count = 0\n",
    "    for item in images[i]:\n",
    "#         faceImg = Image.open(item).convert('L')\n",
    "        faceImg = cv2.imread(item)\n",
    "#         print type(faceImg)\n",
    "        faceDetect = cv2.CascadeClassifier('haarcascade_frontalface_default.xml')\n",
    "        gray = cv2.cvtColor(faceImg, cv2.COLOR_BGR2GRAY)\n",
    "        faces = faceDetect.detectMultiScale(gray, 1.3, 5)\n",
    "        sampleNumber = 0\n",
    "        for x, y, w, h in faces:\n",
    "            print count\n",
    "            count += 1\n",
    "            sampleNumber += 1\n",
    "            name = \"Dataset4/\"+str(i+1)+\"/\"+str(count)+\".png\"\n",
    "            final_images.append(name)\n",
    "            cv2.imwrite(name, gray[y:y+h, x:x+w])\n",
    "#         faceNp = np.array(faceImg, 'uint8')\n",
    "#         faceNp = cv2.resize(faceNp, (40, 40))\n",
    "#         dataNp = faceNp.reshape((1600,))\n",
    "faces = []\n",
    "IDs = []\n",
    "data = []\n",
    "final_images\n",
    "\n",
    "# images"
   ]
  },
  {
   "cell_type": "code",
   "execution_count": 43,
   "metadata": {
    "collapsed": false
   },
   "outputs": [],
   "source": [
    "path = 'Dataset4'\n",
    "imagePaths = [os.path.join(path, f) for f in os.listdir(path)]\n",
    "# print imagePaths\n",
    "images = []\n",
    "final_images = []\n",
    "\n",
    "for imagePath in imagePaths:\n",
    "    if imagePath != 'Dataset4/.DS_Store':\n",
    "        images.append([os.path.join(imagePath, f) for f in os.listdir(imagePath)])\n",
    "\n",
    "for i in range(len(images)):\n",
    "    for item in images[i]:\n",
    "        faceImg = Image.open(item).convert('L')\n",
    "        faceNp = np.array(faceImg, 'uint8')\n",
    "        faceNp = cv2.resize(faceNp, (40, 40))\n",
    "        dataNp = faceNp.reshape((1600,))\n",
    "#         ID = int(os.path.split(item)[-1].split('.')[1])\n",
    "        ID = i+1\n",
    "        faces.append(faceNp)\n",
    "        IDs.append(ID)\n",
    "        data.append(dataNp)\n",
    "final_images = np.asarray(faces)\n",
    "final_data = np.asarray(data)\n",
    "n_features = final_data.shape[1]\n",
    "y = np.asarray(IDs)\n",
    "np.save('final_data', final_data)\n",
    "np.save('final_labels', y)\n",
    "# for folder in folders:\n",
    "#     if folder != 'Dataset/.DS_Store':\n",
    "#         for image in folder:\n",
    "#             print image\n",
    "#             faceImg = Image.open(image).convert('L')\n",
    "#             faceNp = np.array(faceImg, 'uint8')\n",
    "#             faceNp = cv2.resize(faceNp, (40, 40))\n",
    "#             dataNp = faceNp.reshape((1600,))\n",
    "#             ID = int(os.path.split(folder)[-1])\n",
    "#             faces.append(faceNp)\n",
    "#             IDs.append(ID)\n",
    "#             data.append(dataNp)\n"
   ]
  },
  {
   "cell_type": "code",
   "execution_count": 27,
   "metadata": {
    "collapsed": false
   },
   "outputs": [
    {
     "data": {
      "text/plain": [
       "(80, 1600)"
      ]
     },
     "execution_count": 27,
     "metadata": {},
     "output_type": "execute_result"
    }
   ],
   "source": []
  },
  {
   "cell_type": "code",
   "execution_count": null,
   "metadata": {
    "collapsed": false
   },
   "outputs": [],
   "source": []
  },
  {
   "cell_type": "code",
   "execution_count": null,
   "metadata": {
    "collapsed": true
   },
   "outputs": [],
   "source": []
  }
 ],
 "metadata": {
  "kernelspec": {
   "display_name": "Python 2",
   "language": "python",
   "name": "python2"
  },
  "language_info": {
   "codemirror_mode": {
    "name": "ipython",
    "version": 2
   },
   "file_extension": ".py",
   "mimetype": "text/x-python",
   "name": "python",
   "nbconvert_exporter": "python",
   "pygments_lexer": "ipython2",
   "version": "2.7.10"
  }
 },
 "nbformat": 4,
 "nbformat_minor": 2
}
